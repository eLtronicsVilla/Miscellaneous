{
 "cells": [
  {
   "cell_type": "code",
   "execution_count": 138,
   "metadata": {},
   "outputs": [],
   "source": [
    "# Regular expression is used to get the finding expression to matching string.\n",
    "# it is used for text matching pattern.\n",
    "# We are going to use module expression regular expression in python. We are going to use more useful expression of it."
   ]
  },
  {
   "cell_type": "code",
   "execution_count": 139,
   "metadata": {},
   "outputs": [],
   "source": [
    "# import the regular ecxpression module\n",
    "import re"
   ]
  },
  {
   "cell_type": "code",
   "execution_count": 140,
   "metadata": {},
   "outputs": [],
   "source": [
    "patterns = ['term1','term2']"
   ]
  },
  {
   "cell_type": "code",
   "execution_count": 141,
   "metadata": {},
   "outputs": [],
   "source": [
    "text = 'This is a string with term1 but not the other term2'"
   ]
  },
  {
   "cell_type": "code",
   "execution_count": 142,
   "metadata": {},
   "outputs": [
    {
     "data": {
      "text/plain": [
       "<_sre.SRE_Match object; span=(0, 5), match='hello'>"
      ]
     },
     "execution_count": 142,
     "metadata": {},
     "output_type": "execute_result"
    }
   ],
   "source": [
    "re.search('hello','hello world!')\n",
    "    "
   ]
  },
  {
   "cell_type": "code",
   "execution_count": 143,
   "metadata": {},
   "outputs": [
    {
     "name": "stdout",
     "output_type": "stream",
     "text": [
      "searching for \"term1\" in: \n",
      "\"This is a string with term1 but not the other term2\"\n",
      "\n",
      "\n",
      "match is found\n",
      "searching for \"term2\" in: \n",
      "\"This is a string with term1 but not the other term2\"\n",
      "\n",
      "\n",
      "match is found\n"
     ]
    }
   ],
   "source": [
    "for pattern in patterns:\n",
    "    print('searching for \"%s\" in: \\n\"%s\"' %(pattern,text))\n",
    "    #check for match\n",
    "    if re.search(pattern,text):\n",
    "        print('\\n')\n",
    "        print('match is found')\n",
    "    else:\n",
    "        print('\\n')\n",
    "        print('match not found')"
   ]
  },
  {
   "cell_type": "code",
   "execution_count": 144,
   "metadata": {},
   "outputs": [
    {
     "name": "stdout",
     "output_type": "stream",
     "text": [
      "None\n"
     ]
    }
   ],
   "source": [
    "print(re.search('h','k'))"
   ]
  },
  {
   "cell_type": "code",
   "execution_count": 145,
   "metadata": {},
   "outputs": [],
   "source": [
    "match = re.search(patterns[0],text)"
   ]
  },
  {
   "cell_type": "code",
   "execution_count": 146,
   "metadata": {},
   "outputs": [
    {
     "data": {
      "text/plain": [
       "_sre.SRE_Match"
      ]
     },
     "execution_count": 146,
     "metadata": {},
     "output_type": "execute_result"
    }
   ],
   "source": [
    "type(match)"
   ]
  },
  {
   "cell_type": "code",
   "execution_count": 147,
   "metadata": {},
   "outputs": [
    {
     "data": {
      "text/plain": [
       "22"
      ]
     },
     "execution_count": 147,
     "metadata": {},
     "output_type": "execute_result"
    }
   ],
   "source": [
    "match.start()"
   ]
  },
  {
   "cell_type": "code",
   "execution_count": 148,
   "metadata": {},
   "outputs": [
    {
     "data": {
      "text/plain": [
       "27"
      ]
     },
     "execution_count": 148,
     "metadata": {},
     "output_type": "execute_result"
    }
   ],
   "source": [
    "match.end()"
   ]
  },
  {
   "cell_type": "code",
   "execution_count": 149,
   "metadata": {},
   "outputs": [],
   "source": [
    "split_term = '@'\n",
    "phrase = 'what is your term1 email id. Is it hello@gmail.com'"
   ]
  },
  {
   "cell_type": "code",
   "execution_count": 150,
   "metadata": {},
   "outputs": [
    {
     "data": {
      "text/plain": [
       "['what is your term1 email id. Is it hello', 'gmail.com']"
      ]
     },
     "execution_count": 150,
     "metadata": {},
     "output_type": "execute_result"
    }
   ],
   "source": [
    "re.split(split_term,phrase)"
   ]
  },
  {
   "cell_type": "code",
   "execution_count": 151,
   "metadata": {},
   "outputs": [
    {
     "data": {
      "text/plain": [
       "['hello', 'world']"
      ]
     },
     "execution_count": 151,
     "metadata": {},
     "output_type": "execute_result"
    }
   ],
   "source": [
    "'hello world'.split()"
   ]
  },
  {
   "cell_type": "code",
   "execution_count": 152,
   "metadata": {},
   "outputs": [
    {
     "data": {
      "text/plain": [
       "['find', 'find', 'find']"
      ]
     },
     "execution_count": 152,
     "metadata": {},
     "output_type": "execute_result"
    }
   ],
   "source": [
    "re.findall('find','find in all find to find')"
   ]
  },
  {
   "cell_type": "code",
   "execution_count": 153,
   "metadata": {},
   "outputs": [],
   "source": [
    "def multi_re_find(pattern,phrase):\n",
    "    '''Takes in a list of regrex pattern\n",
    "    print a list of all match'''\n",
    "    for pattern in patterns:\n",
    "        print ('searching the phrase using the re-check : %r' %pattern)\n",
    "        print(re.findall(pattern,phrase))"
   ]
  },
  {
   "cell_type": "code",
   "execution_count": 154,
   "metadata": {},
   "outputs": [
    {
     "name": "stdout",
     "output_type": "stream",
     "text": [
      "searching the phrase using the re-check : 'term1'\n",
      "['term1']\n",
      "searching the phrase using the re-check : 'term2'\n",
      "['term2']\n"
     ]
    }
   ],
   "source": [
    "multi_re_find(pattern,text)"
   ]
  },
  {
   "cell_type": "code",
   "execution_count": 155,
   "metadata": {},
   "outputs": [],
   "source": [
    "test_phase = 'sdsd..sssddd...sdddsddd...dsds...dsssss...sdddd'\n",
    "test_pattern = [ 'sd*', # s followed by zero or more d\n",
    "    'sd+', # s followed by one or more d \n",
    "    'sd?', # s followed by zero or one d\n",
    "    'sd{3}', # s followed by 3 'd'\n",
    "    'sd{3,4}', # s followed by two to three 'd'\n",
    "]"
   ]
  },
  {
   "cell_type": "code",
   "execution_count": 156,
   "metadata": {},
   "outputs": [
    {
     "name": "stdout",
     "output_type": "stream",
     "text": [
      "searching the phrase using the re-check : 'term1'\n",
      "[]\n",
      "searching the phrase using the re-check : 'term2'\n",
      "[]\n"
     ]
    }
   ],
   "source": [
    "multi_re_find(test_pattern,test_phase)"
   ]
  },
  {
   "cell_type": "code",
   "execution_count": 157,
   "metadata": {},
   "outputs": [],
   "source": [
    "# character set"
   ]
  },
  {
   "cell_type": "code",
   "execution_count": 158,
   "metadata": {},
   "outputs": [],
   "source": [
    "test_phase = \"sdsd..sssddd...sdddsddd...dsds...dsssss...sdddd\""
   ]
  },
  {
   "cell_type": "code",
   "execution_count": 159,
   "metadata": {},
   "outputs": [
    {
     "name": "stdout",
     "output_type": "stream",
     "text": [
      "searching the phrase using the re-check : 'term1'\n",
      "[]\n",
      "searching the phrase using the re-check : 'term2'\n",
      "[]\n"
     ]
    }
   ],
   "source": [
    "test_pattern = [ '[sd]', # either s or d\n",
    "                's[sd]+' # s followed by more s or d\n",
    "               ]\n",
    "multi_re_find(test_pattern,test_phase)"
   ]
  },
  {
   "cell_type": "code",
   "execution_count": 160,
   "metadata": {},
   "outputs": [],
   "source": [
    "# Exclusion:\n",
    "# we can use ^ to exclude terms by incorporating it into bracket syntax notation.[^...] which matching any single character."
   ]
  },
  {
   "cell_type": "code",
   "execution_count": 163,
   "metadata": {},
   "outputs": [],
   "source": [
    "test_phrase = 'This is a string to extract each single character! but it has punctuation.How we can ? remove it'"
   ]
  },
  {
   "cell_type": "code",
   "execution_count": 165,
   "metadata": {},
   "outputs": [
    {
     "data": {
      "text/plain": [
       "['This',\n",
       " 'is',\n",
       " 'a',\n",
       " 'string',\n",
       " 'to',\n",
       " 'extract',\n",
       " 'each',\n",
       " 'single',\n",
       " 'character',\n",
       " 'but',\n",
       " 'it',\n",
       " 'has',\n",
       " 'punctuation',\n",
       " 'How',\n",
       " 'we',\n",
       " 'can',\n",
       " 'remove',\n",
       " 'it']"
      ]
     },
     "execution_count": 165,
     "metadata": {},
     "output_type": "execute_result"
    }
   ],
   "source": [
    "re.findall('[^!.? ]+',test_phrase)"
   ]
  },
  {
   "cell_type": "code",
   "execution_count": 166,
   "metadata": {},
   "outputs": [],
   "source": [
    "# Escape pattern"
   ]
  },
  {
   "cell_type": "code",
   "execution_count": 167,
   "metadata": {},
   "outputs": [],
   "source": [
    "# \\d - a digit\n",
    "# \\D -  a non digit\n",
    "# \\s - a white space\n",
    "# \\S - a non white space\n",
    "# \\w -  a alpha numeric\n",
    "# \\W -  a non -alpha numeric"
   ]
  },
  {
   "cell_type": "code",
   "execution_count": 169,
   "metadata": {},
   "outputs": [
    {
     "name": "stdout",
     "output_type": "stream",
     "text": [
      "searching the phrase using the re-check : 'term1'\n",
      "[]\n",
      "searching the phrase using the re-check : 'term2'\n",
      "[]\n"
     ]
    }
   ],
   "source": [
    "test_pattern = 'This is a string with some number 1234 and a symbol #tag'\n",
    "test_patterns = [ r'\\d+' # sequence of digit\n",
    "                 r'\\D+' # sequence of non-digit\n",
    "                 r'\\s+' # sequence of white space\n",
    "                 r'\\S+' # sequence of non white space\n",
    "                 r'\\w+' # sequence of alpha numberic\n",
    "                 r'\\W+' # sequence of non alpha numeric\n",
    "]\n",
    "multi_re_find(test_patterns,test_pattern)"
   ]
  },
  {
   "cell_type": "code",
   "execution_count": null,
   "metadata": {},
   "outputs": [],
   "source": []
  }
 ],
 "metadata": {
  "kernelspec": {
   "display_name": "Python 3",
   "language": "python",
   "name": "python3"
  },
  "language_info": {
   "codemirror_mode": {
    "name": "ipython",
    "version": 3
   },
   "file_extension": ".py",
   "mimetype": "text/x-python",
   "name": "python",
   "nbconvert_exporter": "python",
   "pygments_lexer": "ipython3",
   "version": "3.5.2"
  }
 },
 "nbformat": 4,
 "nbformat_minor": 2
}
